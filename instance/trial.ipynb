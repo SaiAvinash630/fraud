{
 "cells": [
  {
   "cell_type": "code",
   "execution_count": 2,
   "id": "5a9cde5c",
   "metadata": {},
   "outputs": [],
   "source": [
    "import sqlite3\n",
    "\n",
    "# Connect to your SQLite database\n",
    "conn = sqlite3.connect('ecommerce.db')  # replace with your DB file name\n",
    "cursor = conn.cursor()\n",
    "\n",
    "# Update first 3 products by ID (ordered by id)\n",
    "cursor.execute(\"\"\"\n",
    "    UPDATE product\n",
    "    SET featured = 1\n",
    "    WHERE id = 7\n",
    "\"\"\")\n",
    "\n",
    "# Commit changes and close the connection\n",
    "conn.commit()\n",
    "conn.close()\n"
   ]
  },
  {
   "cell_type": "code",
   "execution_count": 1,
   "id": "0793cda3",
   "metadata": {},
   "outputs": [],
   "source": [
    "import sqlite3\n",
    "\n",
    "# Connect to the SQLite database\n",
    "conn = sqlite3.connect('ecommerce.db')\n",
    "cursor = conn.cursor()\n",
    "\n",
    "# Update the is_admin column to True (1) for a specific user (e.g., user with id = 1)\n",
    "cursor.execute(\"UPDATE user SET is_admin = 1 WHERE id = 1\")\n",
    "\n",
    "# Commit the changes and close the connection\n",
    "conn.commit()\n",
    "conn.close()"
   ]
  },
  {
   "cell_type": "code",
   "execution_count": 5,
   "id": "ad35135f",
   "metadata": {
    "vscode": {
     "languageId": "sql"
    }
   },
   "outputs": [],
   "source": [
    "# Insert sample orders into the \"order\" table\n",
    "import sqlite3\n",
    "conn = sqlite3.connect('ecommerce.db')\n",
    "cursor = conn.cursor()\n",
    "\n",
    "orders = [\n",
    "    ('Completed', 2, 99.99, '2025-06-24 21:53:13.712050', 'Credit Card', 'web'),\n",
    "    ('Cancelled', 2, 150.00, '2025-06-24 21:53:13.712050', 'Credit Card', 'web')\n",
    "]\n",
    "\n",
    "#cursor.executemany(\"\"\"    INSERT INTO \"order\" (status, user_id, total_amount, timestamp, payment_method, device)    VALUES (?, ?, ?, ?, ?, ?)\"\"\", orders)\n",
    "\n",
    "# Update all 'web' devices to 'Mobile'\n",
    "cursor.execute(\"\"\"\n",
    "    UPDATE \"order\"\n",
    "    SET device = 'Mobile'\n",
    "    WHERE device = 'web'\n",
    "\"\"\")\n",
    "\n",
    "conn.commit()\n",
    "conn.close()"
   ]
  }
 ],
 "metadata": {
  "kernelspec": {
   "display_name": "venv",
   "language": "python",
   "name": "python3"
  },
  "language_info": {
   "codemirror_mode": {
    "name": "ipython",
    "version": 3
   },
   "file_extension": ".py",
   "mimetype": "text/x-python",
   "name": "python",
   "nbconvert_exporter": "python",
   "pygments_lexer": "ipython3",
   "version": "3.13.2"
  }
 },
 "nbformat": 4,
 "nbformat_minor": 5
}
